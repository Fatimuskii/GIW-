{
 "cells": [
  {
   "cell_type": "markdown",
   "metadata": {},
   "source": [
    "### Práctica de Introducción al lenguaje Python"
   ]
  },
  {
   "cell_type": "markdown",
   "metadata": {},
   "source": [
    "#### Ejercicio 1[4 puntos]\n",
    "Un autómata finito deteminista (AFD) es una modelo matemática que permite representar un tipo de lenguaje formal denominado lenguaje regular. Se caracterizan por un alfabeto, un conjunto finito de estados, un estado inicial, un conjunto de estados finales y una función de transición. La función de transición toma un estado  y  un símbolo,  y devuelve como resultado un estado.\n",
    "El automáta toma como entrada una cadena, y aplica la función de transición sucesivamente sobre los elementos de la entrada. Una vez que ha consumido toda la cadena, se mira el estado al que se ha llegado, y si es un estado final entonces la entrada es aceptada. En caso contrario, la cadena no es aceptada.\n",
    "\n",
    "Se pide simular un AFD que tomará como entrada una cadena que representa la entrada, una lista de tuplas donde cada tupla representa un estado y un símbolo representando la función de transición, un conjunto de estado representando el conjunto de estados finales y un estado representando el estado inicial. El programa ante una entrada dirá si la cadena es aceptada o no lo es.\n",
    "\n",
    "Intentad estructurar el programa separando lo que es el programa que acepta la entrada y nos dice si es aceptado o no, y el programa que simula el AFD.\n",
    "\n",
    "Más información: https://en.wikipedia.org/wiki/Deterministic_finite_automaton\n",
    "\n",
    "No se pueden usar ninguna función o método que simule un AFD."
   ]
  },
  {
   "cell_type": "code",
   "execution_count": null,
   "metadata": {},
   "outputs": [],
   "source": [
    "def resultado(estado, estadosFinales):\n",
    "    if (estado in estadosFinales):\n",
    "        print (\"Cadena aceptada\")\n",
    "    else:\n",
    "        print (\"Cadena no aceptada\")"
   ]
  },
  {
   "cell_type": "code",
   "execution_count": null,
   "metadata": {},
   "outputs": [],
   "source": [
    "def automata (cadena, estados, estadosFinales, estado, transicion):\n",
    "    \n",
    "    for sim in cadena:\n",
    "        i=0;\n",
    "        encontrado = False\n",
    "        while (i < len(transicion) and not encontrado):\n",
    "            if (transicion[i][0] == estado):\n",
    "                if(transicion[i][1] == sim):\n",
    "                    estado = transicion[i][2]\n",
    "                    encontrado= True\n",
    "            i += 1\n",
    "            \n",
    "    resultado(estado, estadosFinales)"
   ]
  },
  {
   "cell_type": "code",
   "execution_count": null,
   "metadata": {},
   "outputs": [],
   "source": [
    "#Nuestra cadena y estados son tipo str\n",
    "\n",
    "transicion = [[\"q0\",\"a\",\"q1\"], [\"q0\",\"b\",\"q2\"],[\"q1\",\"a\",\"q2\"],[\"q1\",\"b\",\"q0\"],[\"q2\",\"a\",\"q2\"],[\"q2\",\"b\",\"q2\"]]\n",
    "estados = [\"q0\", \"q1\", \"q2\"]\n",
    "estadosFinales = [\"q2\"]\n",
    "estadosIni =\"q0\"\n",
    "\n",
    "cadena = \"ababa\"\n",
    "\n",
    "\n",
    "if(type(cadena) == str):\n",
    "    automata(cadena, estados, estadosFinales, estadosIni, transicion)\n",
    "else:\n",
    "     print (\"Cadena no aceptada\")"
   ]
  },
  {
   "cell_type": "markdown",
   "metadata": {},
   "source": [
    "#### Ejercicio 2[4 puntos]\n",
    "Considera el problema de cálculo del determinante de una matriz cuadrado de cualquier orden:\n",
    "https://es.wikipedia.org/wiki/Determinante_(matem%C3%A1tica)\n",
    "\n",
    "Se pide implementar un programa que dada una matriz expresada en forma de una lista de listas donde cada lista representa una fila de la matriz, devuelva el determinante de dicha matriz.\n",
    "\n",
    "No se pueden usar ninguna función o método que calcule directamente el determinante."
   ]
  },
  {
   "cell_type": "code",
   "execution_count": null,
   "metadata": {},
   "outputs": [],
   "source": [
    "def adj(matrizInicial, fila, columna): #adjunta es quitando la fila en si, y la columna\n",
    "    matrizAdjunta=[]\n",
    "    tam=len(matrizInicial)\n",
    "    \n",
    "    for i in range(tam-1): #creo la matriz adjunta(q es tamaño de la matrizIni -1)\n",
    "        vacio=[0]*(tam-1)\n",
    "        matrizAdjunta.append(vacio)\n",
    "    \n",
    "    #relleno los datos de la matrizAdj\n",
    "    \n",
    "    for i in range(fila): #relleno por la parte de arriba\n",
    "        for j in range(columna, tam-1):\n",
    "            matrizAdjunta[i][j] = matrizInicial[i][j+1]   \n",
    "\n",
    "    for i in range(fila,tam-1): # relleno por la parte de abajo\n",
    "        for j in range(columna,tam-1):\n",
    "            matrizAdjunta[i][j] = matrizInicial[i+1][j+1]\n",
    "                    \n",
    "    return matrizAdjunta    "
   ]
  },
  {
   "cell_type": "code",
   "execution_count": null,
   "metadata": {},
   "outputs": [],
   "source": [
    "def determinante(matriz):\n",
    "    \n",
    "    if (len(matriz)==1):\n",
    "        det= matriz[0][0] #caso base\n",
    "    elif (len(matriz)==2):\n",
    "        det= matriz[0][0]*matriz[1][1] - matriz[0][1]*matriz[1][0] #2do caso base\n",
    "    else:\n",
    "        #teorema de laplace Suma de a(ij)*(-1)^ (i+j) * |Adjutno ij|\n",
    "        det=0\n",
    "        i=0\n",
    "        while i < len(matriz):\n",
    "            adjunta = adj(matriz, i, 0) #cogemos siempre por filas\n",
    "            signo=(-1)**i\n",
    "            det += matriz[i][0]*signo*determinante(adjunta)\n",
    "            i+=1\n",
    "    \n",
    "    return det"
   ]
  },
  {
   "cell_type": "code",
   "execution_count": null,
   "metadata": {},
   "outputs": [],
   "source": [
    "matriz=[[1,3],[3,2]]\n",
    "print(determinante(matriz))\n",
    "\n",
    "matriz2=[[1,45,2],[2,32,322],[1,3,3]]\n",
    "print(determinante(matriz2))\n",
    "\n",
    "matriz3=[[23,32,45,2],[5,56,78,67],[12,13,14,15],[4,0,0,4]]\n",
    "print(determinante(matriz3))\n",
    "\n",
    "matriz4=[[2,5,10,11,12],[34,47,56,90,0],[0,0,7,8,9],[12,4,5,7,89],[4,6,8,9,90]]\n",
    "print(determinante(matriz4))\n",
    "\n",
    "matriz5=[[1,2,5,8,9],[87,546,4,45,2],[2,5,68,7,45],[12,8,798,45,1],[12,87,36,9,4]]\n",
    "print(determinante(matriz5))\n",
    "\n",
    "print(determinante([[1,2,3],[1,4,8],[5,2,3]]))"
   ]
  },
  {
   "cell_type": "markdown",
   "metadata": {},
   "source": [
    "#### Ejercicio 3[2 puntos]\n",
    "Implementar un programa en Python tal que tome como entrada el nombre de dos archivos de texto. En un archivo hay un conjunto de palabras separadas por coma en una linea y en el otro archivo un texto cualquiera. El programa debe buscar las palabras del primer archivo en el texto del segundo archivo. Como resultado debe mostrar por pantalla cada palabra buscada y junto a ella el núméro de veces que aparece la palabra en el texto. En caso de no aparecer se indicará que no aparece esa palabra. Para realizar la búsqueda no se distingue entre mayúsculas y minúsculas. \n",
    "\n",
    "No se pueden usar ninguna función o método que realice directamente el procesamiento."
   ]
  },
  {
   "cell_type": "code",
   "execution_count": 8,
   "metadata": {},
   "outputs": [],
   "source": [
    "def mostrarResultado(contadas):\n",
    "    for p in contadas:\n",
    "        if(p[1] == 0):\n",
    "            print(\"La palabra '\" + p[0] + \"' no aparece en el texto.\")\n",
    "        elif(p[1] == 1):\n",
    "            print(\"La palabra '\" + p[0] + \"' aparece \" + str(p[1]) + \" vez.\")\n",
    "        else:\n",
    "             print(\"La palabra '\" + p[0] + \"' aparece \" + str(p[1]) + \" veces.\")"
   ]
  },
  {
   "cell_type": "code",
   "execution_count": 9,
   "metadata": {},
   "outputs": [],
   "source": [
    "import re\n",
    "import string\n",
    "\n",
    "def buscarPalabras (archivoPalabras, archivoTexto):\n",
    "    archivo1 = open(archivoPalabras) #abre el archivo que contiene las palabras a buscar\n",
    "    \n",
    "    linea = archivo1.readline().lower() #Lee la línea y lo pasa a minúsculas\n",
    "    palabras = linea.split(\",\") #Crea una lista con las palabras\n",
    "    palabras = [p.strip() for p in palabras] #Elmina espacios de delante y detrás de la palabra\n",
    "\n",
    "    if(len(palabras)==1 and palabras[0]==''):\n",
    "        print(\"No hay palabras que buscar\")\n",
    "    else:\n",
    "        #Crea lista con las palabras e inicializar contador a 0\n",
    "        contadas = []\n",
    "        for p in palabras:\n",
    "            contadas.append([p,0])\n",
    "    \n",
    "        archivo2 = open(archivoTexto)#abre el archivo que contiene el texto\n",
    "    \n",
    "        texto = archivo2.readlines()#lee el archivo completo\n",
    "    \n",
    "        for linea in texto: #recorre las lineas del texto\n",
    "            linea = linea.split(\" \")#crea una lista con las palabras de la linea\n",
    "            for palabra in linea: #recorre las palabras de la linea\n",
    "                #pasa la palabra a minúsculas\n",
    "                palabra=palabra.lower()\n",
    "                #elimina espacios antes y después de la palabra\n",
    "                palabra=palabra.strip()\n",
    "                #elimina signos de puntuación\n",
    "                palabra = re.sub('[%s]' % re.escape(string.punctuation), \"\", palabra)\n",
    "                if (palabra in palabras):\n",
    "                    i = palabras.index(palabra)\n",
    "                    contadas[i][1]+=1\n",
    "        \n",
    "        archivo2.close() \n",
    "        mostrarResultado(contadas)\n",
    "        \n",
    "    archivo1.close()"
   ]
  },
  {
   "cell_type": "code",
   "execution_count": 10,
   "metadata": {},
   "outputs": [
    {
     "name": "stdout",
     "output_type": "stream",
     "text": [
      "La palabra 'hola' aparece 1 vez.\n",
      "La palabra 'esto es una' no aparece en el texto.\n",
      "La palabra 'pruueba' no aparece en el texto.\n",
      "La palabra 'que tal estamos?' no aparece en el texto.\n",
      "La palabra 'fátima' aparece 1 vez.\n"
     ]
    }
   ],
   "source": [
    "buscarPalabras(\"archivoPalabras.txt\", \"archivoTexto.txt\")"
   ]
  },
  {
   "cell_type": "markdown",
   "metadata": {},
   "source": [
    "#### Normas de entrega\n",
    "\n",
    "* Fecha tope de entrega: 26/09/2019\n",
    "* La entrega se realizará subiendo al campus virtual un notebook de Jupyter con la solución. El archivo tendrá como nombre IntroPython_GrupoX donde X será el número de grupo correspondiente."
   ]
  }
 ],
 "metadata": {
  "anaconda-cloud": {},
  "kernelspec": {
   "display_name": "Python 3",
   "language": "python",
   "name": "python3"
  },
  "language_info": {
   "codemirror_mode": {
    "name": "ipython",
    "version": 3
   },
   "file_extension": ".py",
   "mimetype": "text/x-python",
   "name": "python",
   "nbconvert_exporter": "python",
   "pygments_lexer": "ipython3",
   "version": "3.7.3"
  }
 },
 "nbformat": 4,
 "nbformat_minor": 1
}
